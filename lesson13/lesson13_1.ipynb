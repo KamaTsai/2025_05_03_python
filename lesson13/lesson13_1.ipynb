{
 "cells": [
  {
   "cell_type": "markdown",
   "id": "1dd235a6",
   "metadata": {},
   "source": [
    "# https://www.perplexity.ai/search/045ecda7-23bf-4d76-9155-fcb886e2425e"
   ]
  },
  {
   "cell_type": "code",
   "execution_count": null,
   "id": "028344b6",
   "metadata": {},
   "outputs": [
    {
     "data": {
      "text/plain": [
       "array([[0.91668911, 0.24083643, 0.42617277, 0.75849838],\n",
       "       [0.71157064, 0.78155526, 0.72123963, 0.16399982],\n",
       "       [0.6863046 , 0.52438545, 0.73072352, 0.49783374]])"
      ]
     },
     "execution_count": 7,
     "metadata": {},
     "output_type": "execute_result"
    }
   ],
   "source": [
    "import numpy as np\n",
    "np.random.random()\n",
    "np.random.random(3) #引述值的呼叫\n",
    "np.random.random(size=3) #引數名稱呼叫→不用按照說明書排序\n",
    "np.random.random((3,4)) #陣列 3*4的矩陣呼叫\n",
    "np.random.random(size=(3,4)) #引數名稱呼叫陣列\n"
   ]
  },
  {
   "cell_type": "code",
   "execution_count": null,
   "id": "4f6352c4",
   "metadata": {},
   "outputs": [
    {
     "data": {
      "text/plain": [
       "dtype('float64')"
      ]
     },
     "execution_count": 16,
     "metadata": {},
     "output_type": "execute_result"
    }
   ],
   "source": [
    "from numpy.random import normal\n",
    "normal_value = normal(size=(3,4)) #normal_value作為變數 接收傳出的值\n",
    "#ndarry常用的實體屬性\n",
    "type(normal_value) #查詢normal_value傳出的型態\n",
    "normal_value.ndim #ndim\n",
    "normal_value.size #size 12(有12筆資料)\n",
    "normal_value.shape #(3,4) 3*4 的2維陣列\n",
    "normal_value.dtype #float64 →浮點數"
   ]
  },
  {
   "cell_type": "code",
   "execution_count": null,
   "id": "c82369bd",
   "metadata": {},
   "outputs": [
    {
     "data": {
      "text/plain": [
       "array([[-15.17969202,  -0.98591325,  11.37112754,  14.16480819],\n",
       "       [-10.13787901,   9.61190639,   0.49416144,   4.10158285],\n",
       "       [-13.47247021,   6.94704206,  -4.85213561,   0.46415463]])"
      ]
     },
     "execution_count": 17,
     "metadata": {},
     "output_type": "execute_result"
    }
   ],
   "source": [
    "#ndarray, 陣列運算\n",
    "normal_value *10 #ndarry可以做數學運算，直接運算陣列中的數值"
   ]
  },
  {
   "cell_type": "code",
   "execution_count": 20,
   "id": "967dfaae",
   "metadata": {},
   "outputs": [
    {
     "data": {
      "text/plain": [
       "array([ 0.93703305,  0.40697717, -1.09134091])"
      ]
     },
     "execution_count": 20,
     "metadata": {},
     "output_type": "execute_result"
    }
   ],
   "source": [
    "#ndarray, 的統計\n",
    "normal_value.sum() #全部加總\n",
    "normal_value.sum(axis=0) #直行加總\n",
    "normal_value.sum(axis=1) #橫列加總\n",
    "\n"
   ]
  }
 ],
 "metadata": {
  "kernelspec": {
   "display_name": "KamaTsai",
   "language": "python",
   "name": "python3"
  },
  "language_info": {
   "codemirror_mode": {
    "name": "ipython",
    "version": 3
   },
   "file_extension": ".py",
   "mimetype": "text/x-python",
   "name": "python",
   "nbconvert_exporter": "python",
   "pygments_lexer": "ipython3",
   "version": "3.10.18"
  }
 },
 "nbformat": 4,
 "nbformat_minor": 5
}
