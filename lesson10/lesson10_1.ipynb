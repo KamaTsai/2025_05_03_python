{
 "cells": [
  {
   "cell_type": "markdown",
   "id": "20e9749a",
   "metadata": {},
   "source": [
    "# https://www.perplexity.ai/search/3fe51208-8e87-4055-9e80-8c6114ac49d3\n",
    "# 需區分module function 和實體裡的 Function 使用時機&差異"
   ]
  },
  {
   "cell_type": "code",
   "execution_count": null,
   "id": "52d70290",
   "metadata": {},
   "outputs": [],
   "source": [
    " #用內建CSV module 裡的function csv.reader 帶出值\n",
    "import csv\n",
    "with open(\"個股日成交資訊.csv\",encoding=\"utf-8\",newline=\"\") as csvfile:\n",
    "    reader = csv.reader(csvfile)\n",
    "    next(reader) #跳過表頭資料\n",
    "    stacks : list[list] = list(reader)\n",
    "stacks\n"
   ]
  },
  {
   "cell_type": "code",
   "execution_count": null,
   "id": "58805bcd",
   "metadata": {},
   "outputs": [],
   "source": [
    "import csv\n",
    "with open(\"個股日成交資訊.csv\",encoding=\"utf-8\",newline=\"\") as csvfile:\n",
    "    reader = csv.reader(csvfile)\n",
    "    next(reader) #跳過表頭資料\n",
    "    stacks : list[list] = list(reader)\n",
    "for row in stacks: #用for in & print 印出資料\n",
    "    print(row)"
   ]
  },
  {
   "cell_type": "code",
   "execution_count": null,
   "id": "ec64c60f",
   "metadata": {},
   "outputs": [],
   "source": [
    " #用內建CSV module 裡的 csv.DictReader & Print 帶出值 → list裡面是Dictionary\n",
    "import csv\n",
    "with open(\"個股日成交資訊.csv\",encoding=\"utf-8\",newline=\"\") as csvfile:\n",
    "    reader = csv.DictReader(csvfile)\n",
    "    for row in reader:\n",
    "        print(row)\n",
    " "
   ]
  },
  {
   "cell_type": "code",
   "execution_count": null,
   "id": "4ac717ae",
   "metadata": {},
   "outputs": [],
   "source": [
    " ##用內建CSV module 裡的class csv.DictReader & stacks 帶出值\n",
    "import csv\n",
    "with open(\"個股日成交資訊.csv\",encoding=\"utf-8\",newline=\"\") as csvfile:\n",
    "    reader = csv.DictReader(csvfile)\n",
    "    stacks:list[dict]= list(reader)\n",
    "stacks"
   ]
  },
  {
   "cell_type": "code",
   "execution_count": 1,
   "id": "275b206d",
   "metadata": {},
   "outputs": [
    {
     "name": "stdout",
     "output_type": "stream",
     "text": [
      "stacks中共有1113筆資料。\n"
     ]
    }
   ],
   "source": [
    "import csv\n",
    "with open(\"個股日成交資訊.csv\",encoding=\"utf-8\",newline=\"\") as csvfile:\n",
    "    reader = csv.DictReader(csvfile)\n",
    "    stacks:list[dict]= list(reader)\n",
    "print(f\"stacks中共有{len(stacks)}筆資料。\") # 印出Stacks串列的資料筆數"
   ]
  },
  {
   "cell_type": "markdown",
   "id": "b92a171d",
   "metadata": {},
   "source": [
    "# python 的程式 若有加入外部套件(packages),一定要建立一個檔案在根目錄,以便未來/他人知道有那些外部套件\n",
    "- 在根目錄的檔案名稱一定要是\"requirements.txt\"\n",
    "- 在整合終端機打入\"pip install -r requirements.txt\" 即可一次完成在requirements.txt裡面所寫到的外部套件\n",
    "- 安裝完成後，在終端機打入\"pip list\" 即可查詢外部套件是否已安裝"
   ]
  },
  {
   "cell_type": "code",
   "execution_count": 2,
   "id": "ecdc73db",
   "metadata": {},
   "outputs": [
    {
     "data": {
      "text/html": [
       "<div>\n",
       "<style scoped>\n",
       "    .dataframe tbody tr th:only-of-type {\n",
       "        vertical-align: middle;\n",
       "    }\n",
       "\n",
       "    .dataframe tbody tr th {\n",
       "        vertical-align: top;\n",
       "    }\n",
       "\n",
       "    .dataframe thead th {\n",
       "        text-align: right;\n",
       "    }\n",
       "</style>\n",
       "<table border=\"1\" class=\"dataframe\">\n",
       "  <thead>\n",
       "    <tr style=\"text-align: right;\">\n",
       "      <th></th>\n",
       "      <th>證券代號</th>\n",
       "      <th>證券名稱</th>\n",
       "      <th>成交股數</th>\n",
       "      <th>成交金額</th>\n",
       "      <th>開盤價</th>\n",
       "      <th>最高價</th>\n",
       "      <th>最低價</th>\n",
       "      <th>收盤價</th>\n",
       "      <th>漲跌價差</th>\n",
       "      <th>成交筆數</th>\n",
       "    </tr>\n",
       "  </thead>\n",
       "  <tbody>\n",
       "    <tr>\n",
       "      <th>0</th>\n",
       "      <td>0050</td>\n",
       "      <td>元大台灣50</td>\n",
       "      <td>46,790,503</td>\n",
       "      <td>3,463,425,684</td>\n",
       "      <td>74.95</td>\n",
       "      <td>75.25</td>\n",
       "      <td>72.80</td>\n",
       "      <td>72.80</td>\n",
       "      <td>-2.05</td>\n",
       "      <td>23,021</td>\n",
       "    </tr>\n",
       "    <tr>\n",
       "      <th>1</th>\n",
       "      <td>0051</td>\n",
       "      <td>元大中型100</td>\n",
       "      <td>43,172</td>\n",
       "      <td>1,177,199</td>\n",
       "      <td>27.30</td>\n",
       "      <td>27.57</td>\n",
       "      <td>26.75</td>\n",
       "      <td>26.75</td>\n",
       "      <td>-0.52</td>\n",
       "      <td>45</td>\n",
       "    </tr>\n",
       "    <tr>\n",
       "      <th>2</th>\n",
       "      <td>0052</td>\n",
       "      <td>富邦科技</td>\n",
       "      <td>161,425</td>\n",
       "      <td>9,156,750</td>\n",
       "      <td>57.60</td>\n",
       "      <td>57.60</td>\n",
       "      <td>55.35</td>\n",
       "      <td>55.35</td>\n",
       "      <td>-2.35</td>\n",
       "      <td>67</td>\n",
       "    </tr>\n",
       "    <tr>\n",
       "      <th>3</th>\n",
       "      <td>0053</td>\n",
       "      <td>元大電子</td>\n",
       "      <td>35,076</td>\n",
       "      <td>1,163,448</td>\n",
       "      <td>33.36</td>\n",
       "      <td>33.61</td>\n",
       "      <td>32.56</td>\n",
       "      <td>32.69</td>\n",
       "      <td>-0.67</td>\n",
       "      <td>19</td>\n",
       "    </tr>\n",
       "    <tr>\n",
       "      <th>4</th>\n",
       "      <td>0054</td>\n",
       "      <td>元大台商50</td>\n",
       "      <td>27,028</td>\n",
       "      <td>507,569</td>\n",
       "      <td>18.80</td>\n",
       "      <td>19.00</td>\n",
       "      <td>18.64</td>\n",
       "      <td>18.64</td>\n",
       "      <td>-0.36</td>\n",
       "      <td>13</td>\n",
       "    </tr>\n",
       "  </tbody>\n",
       "</table>\n",
       "</div>"
      ],
      "text/plain": [
       "   證券代號     證券名稱        成交股數           成交金額    開盤價    最高價    最低價    收盤價  \\\n",
       "0  0050   元大台灣50  46,790,503  3,463,425,684  74.95  75.25  72.80  72.80   \n",
       "1  0051  元大中型100      43,172      1,177,199  27.30  27.57  26.75  26.75   \n",
       "2  0052     富邦科技     161,425      9,156,750  57.60  57.60  55.35  55.35   \n",
       "3  0053     元大電子      35,076      1,163,448  33.36  33.61  32.56  32.69   \n",
       "4  0054   元大台商50      27,028        507,569  18.80  19.00  18.64  18.64   \n",
       "\n",
       "    漲跌價差    成交筆數  \n",
       "0  -2.05  23,021  \n",
       "1  -0.52      45  \n",
       "2  -2.35      67  \n",
       "3  -0.67      19  \n",
       "4  -0.36      13  "
      ]
     },
     "execution_count": 2,
     "metadata": {},
     "output_type": "execute_result"
    }
   ],
   "source": [
    "import pandas as pd\n",
    "\n",
    "pd.DataFrame(stacks). head()"
   ]
  },
  {
   "cell_type": "markdown",
   "id": "ecd9eec7",
   "metadata": {},
   "source": [
    "# https://www.perplexity.ai/search/e444a2ad-db91-4391-87be-a868c2f7c55f"
   ]
  },
  {
   "cell_type": "code",
   "execution_count": 3,
   "id": "463aa895",
   "metadata": {},
   "outputs": [],
   "source": [
    "import pandas as pd\n",
    "\n",
    "df1 = pd.DataFrame(stacks)\n",
    "df1.to_excel('個股日成交資訊.xlsx',sheet_name='第1頁',index=False)"
   ]
  },
  {
   "cell_type": "markdown",
   "id": "265c032f",
   "metadata": {},
   "source": []
  }
 ],
 "metadata": {
  "kernelspec": {
   "display_name": "Kama0607",
   "language": "python",
   "name": "python3"
  },
  "language_info": {
   "codemirror_mode": {
    "name": "ipython",
    "version": 3
   },
   "file_extension": ".py",
   "mimetype": "text/x-python",
   "name": "python",
   "nbconvert_exporter": "python",
   "pygments_lexer": "ipython3",
   "version": "3.10.18"
  }
 },
 "nbformat": 4,
 "nbformat_minor": 5
}
