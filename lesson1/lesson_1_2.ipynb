{
  "nbformat": 4,
  "nbformat_minor": 0,
  "metadata": {
    "colab": {
      "provenance": [],
      "authorship_tag": "ABX9TyOEGjPsdcuQudL+QX+gMO6K",
      "include_colab_link": true
    },
    "kernelspec": {
      "name": "python3",
      "display_name": "Python 3"
    },
    "language_info": {
      "name": "python"
    }
  },
  "cells": [
    {
      "cell_type": "markdown",
      "metadata": {
        "id": "view-in-github",
        "colab_type": "text"
      },
      "source": [
        "<a href=\"https://colab.research.google.com/github/KamaTsai/2025_05_03_python/blob/main/lesson1/lesson_1_2.ipynb\" target=\"_parent\"><img src=\"https://colab.research.google.com/assets/colab-badge.svg\" alt=\"Open In Colab\"/></a>"
      ]
    },
    {
      "cell_type": "code",
      "execution_count": 2,
      "metadata": {
        "id": "Bl2uHPCep00q",
        "colab": {
          "base_uri": "https://localhost:8080/"
        },
        "outputId": "c3339567-797e-4216-b717-90d637461f0d"
      },
      "outputs": [
        {
          "output_type": "execute_result",
          "data": {
            "text/plain": [
              "14"
            ]
          },
          "metadata": {},
          "execution_count": 2
        }
      ],
      "source": [
        "2+3*4"
      ]
    },
    {
      "cell_type": "code",
      "source": [
        "(2+3)*4"
      ],
      "metadata": {
        "colab": {
          "base_uri": "https://localhost:8080/"
        },
        "id": "s6oHxu20ueBQ",
        "outputId": "f3303ca1-c41f-4f75-f6b3-45249657097e"
      },
      "execution_count": 3,
      "outputs": [
        {
          "output_type": "execute_result",
          "data": {
            "text/plain": [
              "20"
            ]
          },
          "metadata": {},
          "execution_count": 3
        }
      ]
    },
    {
      "cell_type": "markdown",
      "source": [
        "- 會做六件事\n",
        "- 運算式→會傳出值\n",
        "\n",
        "**運算子的優先順序**\n",
        "- ()\n",
        "- **\n",
        "- \\* / % //\n",
        "- \\+ -\n",
        "- =\n"
      ],
      "metadata": {
        "id": "3bKFHXHhus1v"
      }
    },
    {
      "cell_type": "code",
      "source": [
        "2*(1+2)**2-2**2*2"
      ],
      "metadata": {
        "colab": {
          "base_uri": "https://localhost:8080/"
        },
        "id": "ECojrcUTv5wr",
        "outputId": "e3a7d5b8-d368-4478-b6c7-f185a7614739"
      },
      "execution_count": 5,
      "outputs": [
        {
          "output_type": "execute_result",
          "data": {
            "text/plain": [
              "10"
            ]
          },
          "metadata": {},
          "execution_count": 5
        }
      ]
    },
    {
      "cell_type": "markdown",
      "source": [
        "** 敘述式"
      ],
      "metadata": {
        "id": "NL4GX664yFMX"
      }
    },
    {
      "cell_type": "code",
      "source": [
        "n=2*(1+2)**2-2**2*2"
      ],
      "metadata": {
        "id": "fTBogH2RyKEY"
      },
      "execution_count": 6,
      "outputs": []
    },
    {
      "cell_type": "markdown",
      "source": [
        "**敘述式 + 運算式"
      ],
      "metadata": {
        "id": "8ivsW9G6yRGo"
      }
    },
    {
      "cell_type": "code",
      "source": [
        "n=2*(1+2)**2-2**2*2\n",
        "10*n"
      ],
      "metadata": {
        "id": "MMvUNevsyX0Q",
        "outputId": "48e3f226-2cb2-445a-ca8d-46bf8e9cb057",
        "colab": {
          "base_uri": "https://localhost:8080/"
        }
      },
      "execution_count": 7,
      "outputs": [
        {
          "output_type": "execute_result",
          "data": {
            "text/plain": [
              "100"
            ]
          },
          "metadata": {},
          "execution_count": 7
        }
      ]
    },
    {
      "cell_type": "markdown",
      "source": [
        "敘述式 + 敘述式(n的值從10變成100)\n",
        "1. n=10\n",
        "2. n=10*10"
      ],
      "metadata": {
        "id": "v8kZezrUzW-7"
      }
    },
    {
      "cell_type": "code",
      "source": [
        "n=2*(1+2)**2-2**2*2\n",
        "n=n*10"
      ],
      "metadata": {
        "id": "6_w0s1MQzh27"
      },
      "execution_count": 8,
      "outputs": []
    }
  ]
}