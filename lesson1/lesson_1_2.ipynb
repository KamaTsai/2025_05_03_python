{
  "nbformat": 4,
  "nbformat_minor": 0,
  "metadata": {
    "colab": {
      "provenance": [],
      "authorship_tag": "ABX9TyMU+/gO27+qI7OmugcW5cXi",
      "include_colab_link": true
    },
    "kernelspec": {
      "name": "python3",
      "display_name": "Python 3"
    },
    "language_info": {
      "name": "python"
    }
  },
  "cells": [
    {
      "cell_type": "markdown",
      "metadata": {
        "id": "view-in-github",
        "colab_type": "text"
      },
      "source": [
        "<a href=\"https://colab.research.google.com/github/KamaTsai/2025_05_03_python/blob/main/lesson1/lesson_1_2.ipynb\" target=\"_parent\"><img src=\"https://colab.research.google.com/assets/colab-badge.svg\" alt=\"Open In Colab\"/></a>"
      ]
    },
    {
      "cell_type": "code",
      "execution_count": 2,
      "metadata": {
        "id": "Bl2uHPCep00q",
        "outputId": "c3339567-797e-4216-b717-90d637461f0d",
        "colab": {
          "base_uri": "https://localhost:8080/"
        }
      },
      "outputs": [
        {
          "output_type": "execute_result",
          "data": {
            "text/plain": [
              "14"
            ]
          },
          "metadata": {},
          "execution_count": 2
        }
      ],
      "source": [
        "2+3*4"
      ]
    },
    {
      "cell_type": "code",
      "source": [
        "(2+3)*4"
      ],
      "metadata": {
        "id": "s6oHxu20ueBQ",
        "outputId": "f3303ca1-c41f-4f75-f6b3-45249657097e",
        "colab": {
          "base_uri": "https://localhost:8080/"
        }
      },
      "execution_count": 3,
      "outputs": [
        {
          "output_type": "execute_result",
          "data": {
            "text/plain": [
              "20"
            ]
          },
          "metadata": {},
          "execution_count": 3
        }
      ]
    },
    {
      "cell_type": "code",
      "source": [
        "2*(1+2)**2-2**2*2"
      ],
      "metadata": {
        "id": "RmH60Lm8ulh3",
        "outputId": "4aa2d96e-26e6-48bc-e2a8-a2666fc4d90c",
        "colab": {
          "base_uri": "https://localhost:8080/"
        }
      },
      "execution_count": 4,
      "outputs": [
        {
          "output_type": "execute_result",
          "data": {
            "text/plain": [
              "10"
            ]
          },
          "metadata": {},
          "execution_count": 4
        }
      ]
    },
    {
      "cell_type": "markdown",
      "source": [
        "- 會做六件事\n",
        "- 運算式→會傳出值\n",
        "\n",
        "**運算子的優先順序**\n",
        "- ()\n",
        "- \\**\n",
        "- \\* / % //\n",
        "- \\+ -\n",
        "- =\n"
      ],
      "metadata": {
        "id": "3bKFHXHhus1v"
      }
    }
  ]
}