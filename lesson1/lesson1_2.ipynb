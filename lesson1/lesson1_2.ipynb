{
  "nbformat": 4,
  "nbformat_minor": 0,
  "metadata": {
    "colab": {
      "provenance": [],
      "authorship_tag": "ABX9TyPN5JBtYsPwInb3BkBEqoy/",
      "include_colab_link": true
    },
    "kernelspec": {
      "name": "python3",
      "display_name": "Python 3"
    },
    "language_info": {
      "name": "python"
    }
  },
  "cells": [
    {
      "cell_type": "markdown",
      "metadata": {
        "id": "view-in-github",
        "colab_type": "text"
      },
      "source": [
        "<a href=\"https://colab.research.google.com/github/KamaTsai/2025_05_03_python/blob/main/lesson1/lesson_1_2.ipynb\" target=\"_parent\"><img src=\"https://colab.research.google.com/assets/colab-badge.svg\" alt=\"Open In Colab\"/></a>"
      ]
    },
    {
      "cell_type": "code",
      "execution_count": null,
      "metadata": {
        "id": "Bl2uHPCep00q",
        "colab": {
          "base_uri": "https://localhost:8080/"
        },
        "outputId": "c3339567-797e-4216-b717-90d637461f0d"
      },
      "outputs": [
        {
          "output_type": "execute_result",
          "data": {
            "text/plain": [
              "14"
            ]
          },
          "metadata": {},
          "execution_count": 2
        }
      ],
      "source": [
        "2+3*4"
      ]
    },
    {
      "cell_type": "code",
      "source": [
        "(2+3)*4"
      ],
      "metadata": {
        "colab": {
          "base_uri": "https://localhost:8080/"
        },
        "id": "s6oHxu20ueBQ",
        "outputId": "f3303ca1-c41f-4f75-f6b3-45249657097e"
      },
      "execution_count": null,
      "outputs": [
        {
          "output_type": "execute_result",
          "data": {
            "text/plain": [
              "20"
            ]
          },
          "metadata": {},
          "execution_count": 3
        }
      ]
    },
    {
      "cell_type": "markdown",
      "source": [
        "- 會做六件事\n",
        "- 運算式→會傳出值\n",
        "\n",
        "**運算子的優先順序**\n",
        "- ()\n",
        "- **\n",
        "- \\* / % //\n",
        "- \\+ -\n",
        "- =\n"
      ],
      "metadata": {
        "id": "3bKFHXHhus1v"
      }
    },
    {
      "cell_type": "code",
      "source": [
        "2*(1+2)**2-2**2*2"
      ],
      "metadata": {
        "colab": {
          "base_uri": "https://localhost:8080/"
        },
        "id": "ECojrcUTv5wr",
        "outputId": "e3a7d5b8-d368-4478-b6c7-f185a7614739"
      },
      "execution_count": null,
      "outputs": [
        {
          "output_type": "execute_result",
          "data": {
            "text/plain": [
              "10"
            ]
          },
          "metadata": {},
          "execution_count": 5
        }
      ]
    },
    {
      "cell_type": "markdown",
      "source": [
        "## 敘述式"
      ],
      "metadata": {
        "id": "NL4GX664yFMX"
      }
    },
    {
      "cell_type": "code",
      "source": [
        "n=2*(1+2)**2-2**2*2"
      ],
      "metadata": {
        "id": "fTBogH2RyKEY"
      },
      "execution_count": null,
      "outputs": []
    },
    {
      "cell_type": "markdown",
      "source": [
        "## 敘述式 + 運算式"
      ],
      "metadata": {
        "id": "8ivsW9G6yRGo"
      }
    },
    {
      "cell_type": "code",
      "source": [
        "n=2*(1+2)**2-2**2*2\n",
        "10*n"
      ],
      "metadata": {
        "id": "MMvUNevsyX0Q",
        "outputId": "48e3f226-2cb2-445a-ca8d-46bf8e9cb057",
        "colab": {
          "base_uri": "https://localhost:8080/"
        }
      },
      "execution_count": null,
      "outputs": [
        {
          "output_type": "execute_result",
          "data": {
            "text/plain": [
              "100"
            ]
          },
          "metadata": {},
          "execution_count": 7
        }
      ]
    },
    {
      "cell_type": "markdown",
      "source": [
        "## 敘述式 + 敘述式(n的值從10變成100)\n",
        "1. n=10\n",
        "2. n=10*10\n",
        "\n",
        "= → 等於，不是運算式是指定運算子,會把左邊的值給右邊，建立變數用，不會出現值。(不是數學上的等於)\n",
        "\n",
        "\n"
      ],
      "metadata": {
        "id": "v8kZezrUzW-7"
      }
    },
    {
      "cell_type": "code",
      "source": [
        "n=2*(1+2)**2-2**2*2\n",
        "n=n*10"
      ],
      "metadata": {
        "id": "6_w0s1MQzh27"
      },
      "execution_count": null,
      "outputs": []
    },
    {
      "cell_type": "markdown",
      "source": [
        "## 複合指定運算子\n",
        "範例\n",
        "- *=\n",
        "- *+"
      ],
      "metadata": {
        "id": "XZNjPIO43ign"
      }
    },
    {
      "cell_type": "code",
      "source": [
        "n = 2 * ( 1 + 2 ) ** 2 - 2 ** 2 * 2\n",
        "n *= 10\n",
        "n"
      ],
      "metadata": {
        "id": "bkxCZKG43mNA",
        "outputId": "4b18cc79-17df-4260-989b-455bb386f76b",
        "colab": {
          "base_uri": "https://localhost:8080/"
        }
      },
      "execution_count": null,
      "outputs": [
        {
          "output_type": "execute_result",
          "data": {
            "text/plain": [
              "100"
            ]
          },
          "metadata": {},
          "execution_count": 13
        }
      ]
    },
    {
      "cell_type": "code",
      "source": [
        "n = 2 * ( 1 + 2 ) ** 2 - 2 ** 2 * 2\n",
        "n += 10\n",
        "n"
      ],
      "metadata": {
        "id": "X9wbDDZE4pHq",
        "outputId": "92bf3ea3-281c-44d4-982c-0ae9b8929e97",
        "colab": {
          "base_uri": "https://localhost:8080/"
        }
      },
      "execution_count": null,
      "outputs": [
        {
          "output_type": "execute_result",
          "data": {
            "text/plain": [
              "20"
            ]
          },
          "metadata": {},
          "execution_count": 14
        }
      ]
    },
    {
      "cell_type": "markdown",
      "source": [
        "## input()使用"
      ],
      "metadata": {
        "id": "_xbK7p3P9Ghu"
      }
    },
    {
      "cell_type": "code",
      "source": [
        "name = input(\"請輸入您的名字\")"
      ],
      "metadata": {
        "id": "_c67ww69-S0n",
        "outputId": "3c41172b-75b4-4c06-bc4f-8e17c8e2bc12",
        "colab": {
          "base_uri": "https://localhost:8080/"
        }
      },
      "execution_count": null,
      "outputs": [
        {
          "name": "stdout",
          "output_type": "stream",
          "text": [
            "請輸入您的名字蔡怡萍\n"
          ]
        }
      ]
    },
    {
      "cell_type": "code",
      "source": [
        "name = input(\"請輸入您的名字\")\n",
        "print(\"HiHi~~\",name,\"歡迎回來3\")"
      ],
      "metadata": {
        "id": "pAnFRl3n-ddn",
        "outputId": "5417a4db-4b8d-4951-a816-79829e8ed2ca",
        "colab": {
          "base_uri": "https://localhost:8080/"
        }
      },
      "execution_count": null,
      "outputs": [
        {
          "output_type": "stream",
          "name": "stdout",
          "text": [
            "請輸入您的名字12\n",
            "HiHi~~ 12 歡迎回來\n"
          ]
        }
      ]
    },
    {
      "cell_type": "markdown",
      "source": [
        "## Python 是動態型別\n",
        "- int : 整數 →50\n",
        "- float : 浮點數 →50.5\n",
        "- Ste : 字串 → \"50.5\"\n",
        "\n",
        "依儲存的內容判斷型別(其他程式語言型別是固定的)"
      ],
      "metadata": {
        "id": "nnvEZpcLDRFv"
      }
    },
    {
      "cell_type": "code",
      "source": [
        "name=input(\"請輸入你的名字\")\n",
        "type(name)"
      ],
      "metadata": {
        "id": "Vy0_GxSKDr3B",
        "outputId": "7c0c0f28-1bb1-4cf8-cd91-2246b54ff181",
        "colab": {
          "base_uri": "https://localhost:8080/"
        }
      },
      "execution_count": 12,
      "outputs": [
        {
          "name": "stdout",
          "output_type": "stream",
          "text": [
            "請輸入你的名字kkk\n"
          ]
        },
        {
          "output_type": "execute_result",
          "data": {
            "text/plain": [
              "str"
            ]
          },
          "metadata": {},
          "execution_count": 12
        }
      ]
    },
    {
      "cell_type": "code",
      "source": [
        "name=100\n",
        "type(name)"
      ],
      "metadata": {
        "id": "ehGqwNxoEThb",
        "outputId": "58800200-97ef-4974-a945-5161168f3da6",
        "colab": {
          "base_uri": "https://localhost:8080/"
        }
      },
      "execution_count": 11,
      "outputs": [
        {
          "output_type": "execute_result",
          "data": {
            "text/plain": [
              "int"
            ]
          },
          "metadata": {},
          "execution_count": 11
        }
      ]
    },
    {
      "cell_type": "code",
      "source": [
        "name=2.2\n",
        "type(name)"
      ],
      "metadata": {
        "id": "T781wVQUEdwF",
        "outputId": "fa5fe216-2871-41aa-8afa-80bc52a7fd97",
        "colab": {
          "base_uri": "https://localhost:8080/"
        }
      },
      "execution_count": 10,
      "outputs": [
        {
          "output_type": "execute_result",
          "data": {
            "text/plain": [
              "float"
            ]
          },
          "metadata": {},
          "execution_count": 10
        }
      ]
    }
  ]
}