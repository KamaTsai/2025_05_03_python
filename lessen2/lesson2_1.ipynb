{
  "nbformat": 4,
  "nbformat_minor": 0,
  "metadata": {
    "colab": {
      "provenance": [],
      "authorship_tag": "ABX9TyMw4v58KFzjzdv/6hCh4OhG",
      "include_colab_link": true
    },
    "kernelspec": {
      "name": "python3",
      "display_name": "Python 3"
    },
    "language_info": {
      "name": "python"
    }
  },
  "cells": [
    {
      "cell_type": "markdown",
      "metadata": {
        "id": "view-in-github",
        "colab_type": "text"
      },
      "source": [
        "<a href=\"https://colab.research.google.com/github/KamaTsai/2025_05_03_python/blob/main/lessen2/lesson2_1.ipynb\" target=\"_parent\"><img src=\"https://colab.research.google.com/assets/colab-badge.svg\" alt=\"Open In Colab\"/></a>"
      ]
    },
    {
      "cell_type": "markdown",
      "source": [],
      "metadata": {
        "id": "lNRDRogdG96B"
      }
    },
    {
      "cell_type": "markdown",
      "source": [
        "#只有數值型別可以運算\n",
        "整數可以與浮點數相加，但兩者相加會呈現浮點數"
      ],
      "metadata": {
        "id": "OZoCh-9aG_UY"
      }
    },
    {
      "cell_type": "code",
      "source": [
        "5+5"
      ],
      "metadata": {
        "id": "3AeTlHNzKJ1u",
        "outputId": "d1deb86f-bed3-4cbd-c12a-40a4fc7a0354",
        "colab": {
          "base_uri": "https://localhost:8080/"
        }
      },
      "execution_count": null,
      "outputs": [
        {
          "output_type": "execute_result",
          "data": {
            "text/plain": [
              "10"
            ]
          },
          "metadata": {},
          "execution_count": 1
        }
      ]
    },
    {
      "cell_type": "code",
      "source": [
        "5.0+10.0"
      ],
      "metadata": {
        "id": "_sVC_fH5KPyG",
        "outputId": "3d0da43f-1b33-4504-c230-372e93df9c14",
        "colab": {
          "base_uri": "https://localhost:8080/"
        }
      },
      "execution_count": null,
      "outputs": [
        {
          "output_type": "execute_result",
          "data": {
            "text/plain": [
              "15.0"
            ]
          },
          "metadata": {},
          "execution_count": 2
        }
      ]
    },
    {
      "cell_type": "code",
      "source": [
        "5+10.0"
      ],
      "metadata": {
        "id": "TmC4hKgoKR6v",
        "outputId": "c0db3dfa-63e1-40a0-ebd4-70ae85d48584",
        "colab": {
          "base_uri": "https://localhost:8080/"
        }
      },
      "execution_count": null,
      "outputs": [
        {
          "output_type": "execute_result",
          "data": {
            "text/plain": [
              "15.0"
            ]
          },
          "metadata": {},
          "execution_count": 3
        }
      ]
    },
    {
      "cell_type": "markdown",
      "source": [
        "#字串與字串可以相加,相乘"
      ],
      "metadata": {
        "id": "_bxLVGNCJqGc"
      }
    },
    {
      "cell_type": "code",
      "source": [
        "\"5\"+\"5\""
      ],
      "metadata": {
        "id": "4FjiCgmFK_rq",
        "outputId": "d47fe638-fdb5-4c2c-f533-c1e031bb8007",
        "colab": {
          "base_uri": "https://localhost:8080/",
          "height": 35
        }
      },
      "execution_count": null,
      "outputs": [
        {
          "output_type": "execute_result",
          "data": {
            "text/plain": [
              "'55'"
            ],
            "application/vnd.google.colaboratory.intrinsic+json": {
              "type": "string"
            }
          },
          "metadata": {},
          "execution_count": 7
        }
      ]
    },
    {
      "cell_type": "code",
      "source": [
        "\"--\"*10"
      ],
      "metadata": {
        "id": "HOBDuqN0LCtC",
        "outputId": "e9b82292-29dd-4db6-abe2-bf6c5b8c821f",
        "colab": {
          "base_uri": "https://localhost:8080/",
          "height": 35
        }
      },
      "execution_count": null,
      "outputs": [
        {
          "output_type": "execute_result",
          "data": {
            "text/plain": [
              "'--------------------'"
            ],
            "application/vnd.google.colaboratory.intrinsic+json": {
              "type": "string"
            }
          },
          "metadata": {},
          "execution_count": 8
        }
      ]
    },
    {
      "cell_type": "markdown",
      "source": [
        "#數值與字串無法數學運算"
      ],
      "metadata": {
        "id": "H-ryn7zSJ0jc"
      }
    },
    {
      "cell_type": "code",
      "source": [
        "5+\"5\""
      ],
      "metadata": {
        "id": "RavWG1GHK8ky",
        "outputId": "b8b6c42e-125d-4e00-84e1-0b275a587dc9",
        "colab": {
          "base_uri": "https://localhost:8080/",
          "height": 141
        }
      },
      "execution_count": null,
      "outputs": [
        {
          "output_type": "error",
          "ename": "TypeError",
          "evalue": "unsupported operand type(s) for +: 'int' and 'str'",
          "traceback": [
            "\u001b[0;31m---------------------------------------------------------------------------\u001b[0m",
            "\u001b[0;31mTypeError\u001b[0m                                 Traceback (most recent call last)",
            "\u001b[0;32m<ipython-input-5-76085b026109>\u001b[0m in \u001b[0;36m<cell line: 0>\u001b[0;34m()\u001b[0m\n\u001b[0;32m----> 1\u001b[0;31m \u001b[0;36m5\u001b[0m\u001b[0;34m+\u001b[0m\u001b[0;34m\"5\"\u001b[0m\u001b[0;34m\u001b[0m\u001b[0;34m\u001b[0m\u001b[0m\n\u001b[0m",
            "\u001b[0;31mTypeError\u001b[0m: unsupported operand type(s) for +: 'int' and 'str'"
          ]
        }
      ]
    },
    {
      "cell_type": "markdown",
      "source": [
        "#型別查詢(隨時留意代碼型別)"
      ],
      "metadata": {
        "id": "NAKeSDdLJ7jl"
      }
    },
    {
      "cell_type": "code",
      "source": [
        "type(\"5\")"
      ],
      "metadata": {
        "id": "AYPNdUgsLRRj",
        "outputId": "a38bb294-4c46-454b-c924-dbd8f1bc4fc2",
        "colab": {
          "base_uri": "https://localhost:8080/"
        }
      },
      "execution_count": null,
      "outputs": [
        {
          "output_type": "execute_result",
          "data": {
            "text/plain": [
              "str"
            ]
          },
          "metadata": {},
          "execution_count": 11
        }
      ]
    },
    {
      "cell_type": "code",
      "source": [
        "type(5)"
      ],
      "metadata": {
        "id": "JRL9l6dXLXl8",
        "outputId": "1be90b86-cecf-4118-eeaf-1a4340734311",
        "colab": {
          "base_uri": "https://localhost:8080/"
        }
      },
      "execution_count": null,
      "outputs": [
        {
          "output_type": "execute_result",
          "data": {
            "text/plain": [
              "int"
            ]
          },
          "metadata": {},
          "execution_count": 12
        }
      ]
    },
    {
      "cell_type": "markdown",
      "source": [
        "#暫時轉換型別"
      ],
      "metadata": {
        "id": "xQtSZmmeJ44W"
      }
    },
    {
      "cell_type": "code",
      "source": [
        "5+float(\"5\")"
      ],
      "metadata": {
        "id": "5eHCf-S7LHaT",
        "outputId": "c5876f6f-509e-4692-af02-2b146540da2e",
        "colab": {
          "base_uri": "https://localhost:8080/"
        }
      },
      "execution_count": null,
      "outputs": [
        {
          "output_type": "execute_result",
          "data": {
            "text/plain": [
              "10.0"
            ]
          },
          "metadata": {},
          "execution_count": 10
        }
      ]
    },
    {
      "cell_type": "code",
      "source": [
        "width = float(input(\"請輸入矩形的寬\"))\n",
        "high = float(input(\"請輸入矩形的長\"))\n",
        "area = width * high\n",
        "print(\"矩形的面積\",area)"
      ],
      "metadata": {
        "id": "AQSz0ceSLdSk",
        "outputId": "b763b4bc-605b-4993-c71b-22e5393fd443",
        "colab": {
          "base_uri": "https://localhost:8080/"
        }
      },
      "execution_count": 1,
      "outputs": [
        {
          "output_type": "stream",
          "name": "stdout",
          "text": [
            "請輸入矩形的寬5\n",
            "請輸入矩形的長3\n",
            "矩形的面積 15.0\n"
          ]
        }
      ]
    },
    {
      "cell_type": "markdown",
      "source": [
        "# 標準函式庫運用"
      ],
      "metadata": {
        "id": "rKc9h3IvN_eJ"
      }
    },
    {
      "cell_type": "code",
      "source": [
        "import math\n",
        "\n",
        "side = float(input(\"請輸入對邊長\"))\n",
        "another_side = float(input(\"請輸入鄰邊長\"))\n",
        "answer = math.sqrt(side**2+another_side**2)\n",
        "print(\"斜邊長為:\",answer)"
      ],
      "metadata": {
        "id": "uT90MHxwOGTZ",
        "outputId": "ff748302-b53a-472a-87ac-6068762fc11a",
        "colab": {
          "base_uri": "https://localhost:8080/"
        }
      },
      "execution_count": 7,
      "outputs": [
        {
          "output_type": "stream",
          "name": "stdout",
          "text": [
            "請輸入對邊長4\n",
            "請輸入鄰邊長8\n",
            "斜邊長為: 8.94427190999916\n"
          ]
        }
      ]
    }
  ]
}