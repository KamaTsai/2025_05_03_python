{
  "nbformat": 4,
  "nbformat_minor": 0,
  "metadata": {
    "colab": {
      "provenance": [],
      "authorship_tag": "ABX9TyM+Ftx9Ngyh8WxMDUofj+/A",
      "include_colab_link": true
    },
    "kernelspec": {
      "name": "python3",
      "display_name": "Python 3"
    },
    "language_info": {
      "name": "python"
    }
  },
  "cells": [
    {
      "cell_type": "markdown",
      "metadata": {
        "id": "view-in-github",
        "colab_type": "text"
      },
      "source": [
        "<a href=\"https://colab.research.google.com/github/KamaTsai/2025_05_03_python/blob/main/Python_lession1_lesson1_0503.ipynb\" target=\"_parent\"><img src=\"https://colab.research.google.com/assets/colab-badge.svg\" alt=\"Open In Colab\"/></a>"
      ]
    },
    {
      "cell_type": "markdown",
      "source": [
        "# 標題1\n",
        "## 標題2"
      ],
      "metadata": {
        "id": "6KLaK9fAO3Dt"
      }
    },
    {
      "cell_type": "code",
      "execution_count": null,
      "metadata": {
        "colab": {
          "base_uri": "https://localhost:8080/"
        },
        "id": "lNrshgLHDRnJ",
        "outputId": "bc8cbb34-c31f-40b9-ca50-5ae273602216"
      },
      "outputs": [
        {
          "output_type": "stream",
          "name": "stdout",
          "text": [
            "Hello! koro\n"
          ]
        }
      ],
      "source": [
        "print(\"Hello! koro\")"
      ]
    },
    {
      "cell_type": "code",
      "source": [
        "print(5+5)\n",
        "print(10-2)\n",
        "print(10*8)\n",
        "print(1/3)\n",
        "print(7//3)\n",
        "print(7**4)"
      ],
      "metadata": {
        "id": "94hyA4WASdQ9",
        "outputId": "bd03ce03-904b-4a85-8507-6f0ae6a494b6",
        "colab": {
          "base_uri": "https://localhost:8080/"
        }
      },
      "execution_count": 7,
      "outputs": [
        {
          "output_type": "stream",
          "name": "stdout",
          "text": [
            "10\n",
            "8\n",
            "80\n",
            "0.3333333333333333\n",
            "2\n",
            "2401\n"
          ]
        }
      ]
    }
  ]
}