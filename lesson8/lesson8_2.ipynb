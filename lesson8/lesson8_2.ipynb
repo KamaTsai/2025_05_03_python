{
 "cells": [
  {
   "cell_type": "code",
   "execution_count": null,
   "id": "8efd1731",
   "metadata": {},
   "outputs": [],
   "source": [
    "###如何呼叫function"
   ]
  },
  {
   "cell_type": "code",
   "execution_count": 4,
   "id": "95bb9d9e",
   "metadata": {},
   "outputs": [],
   "source": [
    "def menu(wine:str,entree:str,dessert:str)->None:\n",
    "    print(f\"前酒:{wine}\")\n",
    "    print(f\"主餐:{entree}\")\n",
    "    print(f\"甜點:{dessert}\")\n"
   ]
  },
  {
   "cell_type": "code",
   "execution_count": null,
   "id": "b3cc8fee",
   "metadata": {},
   "outputs": [],
   "source": [
    "###引數值的呼叫\n",
    "- 要依照參數的順序"
   ]
  },
  {
   "cell_type": "code",
   "execution_count": 5,
   "id": "73094e23",
   "metadata": {},
   "outputs": [
    {
     "name": "stdout",
     "output_type": "stream",
     "text": [
      "前酒:白酒\n",
      "主餐:牛排\n",
      "甜點:蛋糕\n"
     ]
    }
   ],
   "source": [
    "menu(\"白酒\",\"牛排\",\"蛋糕\")"
   ]
  },
  {
   "cell_type": "code",
   "execution_count": 6,
   "id": "2aa726a4",
   "metadata": {},
   "outputs": [
    {
     "ename": "NameError",
     "evalue": "name '可以不依照順序' is not defined",
     "output_type": "error",
     "traceback": [
      "\u001b[31m---------------------------------------------------------------------------\u001b[39m",
      "\u001b[31mNameError\u001b[39m                                 Traceback (most recent call last)",
      "\u001b[36mCell\u001b[39m\u001b[36m \u001b[39m\u001b[32mIn[6]\u001b[39m\u001b[32m, line 2\u001b[39m\n\u001b[32m      1\u001b[39m \u001b[38;5;66;03m### 引數名稱呼叫\u001b[39;00m\n\u001b[32m----> \u001b[39m\u001b[32m2\u001b[39m - \u001b[43m可以不依照順序\u001b[49m\n\u001b[32m      3\u001b[39m - 將引數名稱用參數名稱取代\n",
      "\u001b[31mNameError\u001b[39m: name '可以不依照順序' is not defined"
     ]
    }
   ],
   "source": [
    "### 引數名稱呼叫\n",
    "- 可以不依照順序\n",
    "- 將引數名稱用參數名稱取代"
   ]
  },
  {
   "cell_type": "code",
   "execution_count": 7,
   "id": "2330c1cd",
   "metadata": {},
   "outputs": [
    {
     "name": "stdout",
     "output_type": "stream",
     "text": [
      "前酒:白酒\n",
      "主餐:牛排\n",
      "甜點:蛋糕\n"
     ]
    }
   ],
   "source": [
    "menu(entree=\"牛排\",dessert=\"蛋糕\",wine=\"白酒\")"
   ]
  },
  {
   "cell_type": "code",
   "execution_count": null,
   "id": "88f10ab4",
   "metadata": {},
   "outputs": [],
   "source": [
    "### 混合呼叫\n",
    "- 前面使用引數值的呼叫\n",
    "- 後面使用引數名稱的呼叫\n",
    "- 使用引數名稱呼叫後，接續的全部都要使用引數名稱"
   ]
  },
  {
   "cell_type": "code",
   "execution_count": 8,
   "id": "a68aae06",
   "metadata": {},
   "outputs": [
    {
     "name": "stdout",
     "output_type": "stream",
     "text": [
      "前酒:白酒\n",
      "主餐:牛排\n",
      "甜點:蛋糕\n"
     ]
    }
   ],
   "source": [
    "menu(\"白酒\",dessert=\"蛋糕\",entree=\"牛排\")"
   ]
  },
  {
   "cell_type": "code",
   "execution_count": null,
   "id": "7970d0f6",
   "metadata": {},
   "outputs": [],
   "source": [
    "### 定義的function 參數，可以有預設值\n",
    "- 預設值一定要放在最後"
   ]
  },
  {
   "cell_type": "code",
   "execution_count": 9,
   "id": "b14fb005",
   "metadata": {},
   "outputs": [],
   "source": [
    "def menu(wine:str,entree:str,dessert:str=\"奶昔\")->None:\n",
    "    print(f\"前酒:{wine}\")\n",
    "    print(f\"主餐:{entree}\")\n",
    "    print(f\"甜點:{dessert}\")"
   ]
  },
  {
   "cell_type": "code",
   "execution_count": null,
   "id": "c5ab63c8",
   "metadata": {},
   "outputs": [],
   "source": [
    "### 呼叫時，有預設值的參數，可以省卻引數值"
   ]
  },
  {
   "cell_type": "code",
   "execution_count": 10,
   "id": "2875983f",
   "metadata": {},
   "outputs": [
    {
     "name": "stdout",
     "output_type": "stream",
     "text": [
      "前酒:白酒\n",
      "主餐:牛排\n",
      "甜點:奶昔\n"
     ]
    }
   ],
   "source": [
    "menu('白酒','牛排')"
   ]
  },
  {
   "cell_type": "code",
   "execution_count": 15,
   "id": "506fdd66",
   "metadata": {},
   "outputs": [],
   "source": [
    "def menu(wine:str,entree:str='雞排',dessert:str='奶昔')->None:\n",
    "    print(f\"前酒:{wine}\")\n",
    "    print(f\"主餐:{entree}\")\n",
    "    print(f\"甜點:{dessert}\")"
   ]
  },
  {
   "cell_type": "code",
   "execution_count": 12,
   "id": "cf8e79dd",
   "metadata": {},
   "outputs": [
    {
     "name": "stdout",
     "output_type": "stream",
     "text": [
      "前酒:白酒\n",
      "主餐:雞排\n",
      "甜點:奶昔\n"
     ]
    }
   ],
   "source": [
    "menu('白酒')"
   ]
  },
  {
   "cell_type": "code",
   "execution_count": null,
   "id": "c1f454e5",
   "metadata": {},
   "outputs": [],
   "source": [
    "## 修改定義的function,可以改變預設值\n",
    "- ex. 將奶昔改為蛋糕"
   ]
  },
  {
   "cell_type": "code",
   "execution_count": 13,
   "id": "cc9f5526",
   "metadata": {},
   "outputs": [
    {
     "name": "stdout",
     "output_type": "stream",
     "text": [
      "前酒:白酒\n",
      "主餐:雞排\n",
      "甜點:蛋糕\n"
     ]
    }
   ],
   "source": [
    "menu('白酒',dessert=\"蛋糕\")"
   ]
  },
  {
   "cell_type": "code",
   "execution_count": null,
   "id": "6fa23aa8",
   "metadata": {},
   "outputs": [],
   "source": [
    "### *參數名稱 → \"星\"參數名稱\n",
    "- 沒有限制數量的引數值的呼叫"
   ]
  },
  {
   "cell_type": "code",
   "execution_count": 20,
   "id": "e987b4eb",
   "metadata": {},
   "outputs": [],
   "source": [
    "def print_args(*args):\n",
    "    #tuple\n",
    "    print(args)"
   ]
  },
  {
   "cell_type": "code",
   "execution_count": 21,
   "id": "1a35a27b",
   "metadata": {},
   "outputs": [
    {
     "name": "stdout",
     "output_type": "stream",
     "text": [
      "(1, 2, 3, 'a', 'b', 'c', True, False)\n"
     ]
    }
   ],
   "source": [
    "print_args(1, 2, 3, 'a','b','c',True, False)"
   ]
  },
  {
   "cell_type": "code",
   "execution_count": null,
   "id": "638d3e93",
   "metadata": {},
   "outputs": [],
   "source": [
    "### **參數名稱 → \"星星\"參數名稱\n",
    "- 沒有限定數量的引數名稱呼叫"
   ]
  },
  {
   "cell_type": "code",
   "execution_count": 22,
   "id": "199154f9",
   "metadata": {},
   "outputs": [],
   "source": [
    "def print_kwargs(**kwargs):\n",
    "    #dictionary辭典物件\n",
    "    print(kwargs)"
   ]
  },
  {
   "cell_type": "code",
   "execution_count": 24,
   "id": "cc3435ab",
   "metadata": {},
   "outputs": [
    {
     "name": "stdout",
     "output_type": "stream",
     "text": [
      "{'one': 1, 'two': 2, 'three': 3, 'four': 4, 'five': 5}\n"
     ]
    }
   ],
   "source": [
    "print_kwargs(one=1, two=2,three=3,four=4, five=5)"
   ]
  },
  {
   "cell_type": "code",
   "execution_count": 25,
   "id": "4251f96c",
   "metadata": {},
   "outputs": [],
   "source": [
    "def print_all(*args, **kwargs):\n",
    "    print(args)\n",
    "    print(kwargs)"
   ]
  },
  {
   "cell_type": "code",
   "execution_count": 26,
   "id": "f9cc7acf",
   "metadata": {},
   "outputs": [
    {
     "name": "stdout",
     "output_type": "stream",
     "text": [
      "(1, 2, 3, 'a', 'b', 'C', True, False)\n",
      "{'one': 1, 'two': 2, 'three': 3, 'four': 4, 'five': 5}\n"
     ]
    }
   ],
   "source": [
    "print_all(1,2,3,\"a\",\"b\",\"C\",True, False, one=1,two=2,three=3,four=4,five=5)"
   ]
  },
  {
   "cell_type": "code",
   "execution_count": null,
   "id": "11252a04",
   "metadata": {},
   "outputs": [],
   "source": [
    "### 說明書\n",
    "- 只有一個 * 出現在說明書當中 → 代表*以後的值都要用引數值的呼叫\n",
    "- 只有一個 / 出現在說明書當中 → 代表 / 以前的值都要用引數直呼叫 "
   ]
  },
  {
   "cell_type": "code",
   "execution_count": 34,
   "id": "ed8418ac",
   "metadata": {},
   "outputs": [
    {
     "ename": "IndentationError",
     "evalue": "unexpected indent (4196674592.py, line 2)",
     "output_type": "error",
     "traceback": [
      "  \u001b[36mCell\u001b[39m\u001b[36m \u001b[39m\u001b[32mIn[34]\u001b[39m\u001b[32m, line 2\u001b[39m\n\u001b[31m    \u001b[39m\u001b[31m- 預設每個值中間空一格\u001b[39m\n    ^\n\u001b[31mIndentationError\u001b[39m\u001b[31m:\u001b[39m unexpected indent\n"
     ]
    }
   ],
   "source": [
    "# print的說明書 : print(*objects, sep=' ', end='\\n', file=None, flush=False)\n",
    " - 預設每個值中間空一格"
   ]
  },
  {
   "cell_type": "code",
   "execution_count": 32,
   "id": "6a64b7ec",
   "metadata": {},
   "outputs": [
    {
     "ename": "SyntaxError",
     "evalue": "invalid character '→' (U+2192) (977266905.py, line 2)",
     "output_type": "error",
     "traceback": [
      "  \u001b[36mCell\u001b[39m\u001b[36m \u001b[39m\u001b[32mIn[32]\u001b[39m\u001b[32m, line 2\u001b[39m\n\u001b[31m    \u001b[39m\u001b[31m-  \"\\n\"→換行\u001b[39m\n           ^\n\u001b[31mSyntaxError\u001b[39m\u001b[31m:\u001b[39m invalid character '→' (U+2192)\n"
     ]
    }
   ],
   "source": [
    "# 將每個值的區隔改為\"-\" 且結束時加上\"結束\"\n",
    "-  \"\\n\"→換行"
   ]
  },
  {
   "cell_type": "code",
   "execution_count": 33,
   "id": "0be33884",
   "metadata": {},
   "outputs": [
    {
     "name": "stdout",
     "output_type": "stream",
     "text": [
      "1-2-3-4-a-b結束\n"
     ]
    }
   ],
   "source": [
    "print( 1,2,3,4, \"a\",\"b\", sep=\"-\",end=\"結束\\n\")"
   ]
  }
 ],
 "metadata": {
  "kernelspec": {
   "display_name": "Python (kamatsai)",
   "language": "python",
   "name": "kamatsai"
  },
  "language_info": {
   "codemirror_mode": {
    "name": "ipython",
    "version": 3
   },
   "file_extension": ".py",
   "mimetype": "text/x-python",
   "name": "python",
   "nbconvert_exporter": "python",
   "pygments_lexer": "ipython3",
   "version": "3.10.18"
  }
 },
 "nbformat": 4,
 "nbformat_minor": 5
}
