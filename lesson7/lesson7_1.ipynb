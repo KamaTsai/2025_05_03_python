{
 "cells": [
  {
   "cell_type": "code",
   "execution_count": 3,
   "id": "18b023c4",
   "metadata": {},
   "outputs": [
    {
     "name": "stdout",
     "output_type": "stream",
     "text": [
      "你的BMI: 27.777777777777775\n"
     ]
    }
   ],
   "source": [
    "def caculate_bmi(h:int,w:int)->float:\n",
    "    return w/(h/100)**2\n",
    "height:int = int(input(\"請輸入身高(CM):\"))\n",
    "Weight:int = int(input(\"請輸入體重(KG):\"))\n",
    "bmi = caculate_bmi(height,Weight)\n",
    "print(\"你的BMI:\",bmi)"
   ]
  },
  {
   "cell_type": "code",
   "execution_count": 5,
   "id": "11aa0f02",
   "metadata": {},
   "outputs": [
    {
     "name": "stdout",
     "output_type": "stream",
     "text": [
      "你的BMI: 33.29864724245577\n",
      "中度肥胖\n"
     ]
    }
   ],
   "source": [
    "def caculate_bmi(height:int,Weight:int)->float:\n",
    "    return Weight/(height/100)**2\n",
    "def get_state(bmi:float)->str:\n",
    "    if bmi<18.5:\n",
    "        return \"體重過輕\"\n",
    "    elif bmi<24:\n",
    "        return\"體重正常\"\n",
    "    elif bmi<27:\n",
    "        return\"體重過重\"\n",
    "    elif bmi<30:\n",
    "        return\"輕度肥胖\"\n",
    "    elif bmi<35:\n",
    "        return\"中度肥胖\"\n",
    "    else:\n",
    "        return\"重度肥胖\"\n",
    "height:int = int(input(\"請輸入身高(CM):\"))\n",
    "Weight:int = int(input(\"請輸入體重(KG):\"))\n",
    "bmi = caculate_bmi(height,Weight)\n",
    "print(\"你的BMI:\",bmi)\n",
    "print(get_state(bmi))"
   ]
  }
 ],
 "metadata": {
  "kernelspec": {
   "display_name": "base",
   "language": "python",
   "name": "python3"
  },
  "language_info": {
   "codemirror_mode": {
    "name": "ipython",
    "version": 3
   },
   "file_extension": ".py",
   "mimetype": "text/x-python",
   "name": "python",
   "nbconvert_exporter": "python",
   "pygments_lexer": "ipython3",
   "version": "3.13.2"
  }
 },
 "nbformat": 4,
 "nbformat_minor": 5
}
