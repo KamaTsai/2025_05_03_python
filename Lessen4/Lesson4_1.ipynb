{
  "nbformat": 4,
  "nbformat_minor": 0,
  "metadata": {
    "colab": {
      "provenance": [],
      "authorship_tag": "ABX9TyPHKQofl9LZTYGI/9asFE/u",
      "include_colab_link": true
    },
    "kernelspec": {
      "name": "python3",
      "display_name": "Python 3"
    },
    "language_info": {
      "name": "python"
    }
  },
  "cells": [
    {
      "cell_type": "markdown",
      "metadata": {
        "id": "view-in-github",
        "colab_type": "text"
      },
      "source": [
        "<a href=\"https://colab.research.google.com/github/KamaTsai/2025_05_03_python/blob/main/Lessen4/Lesson4_1.ipynb\" target=\"_parent\"><img src=\"https://colab.research.google.com/assets/colab-badge.svg\" alt=\"Open In Colab\"/></a>"
      ]
    },
    {
      "cell_type": "code",
      "execution_count": null,
      "metadata": {
        "id": "2BDyO9px2yC1",
        "outputId": "304d5193-de5d-4372-8195-95d52624bdb6",
        "colab": {
          "base_uri": "https://localhost:8080/"
        }
      },
      "outputs": [
        {
          "output_type": "stream",
          "name": "stdout",
          "text": [
            "45\n",
            "92\n",
            "78\n",
            "50\n",
            "69\n"
          ]
        }
      ],
      "source": [
        "#list\n",
        "for i in [45, 92, 78, 50, 69]:\n",
        "  print(i)"
      ]
    },
    {
      "cell_type": "code",
      "source": [
        "#tuple\n",
        "for i in(45, 92, 78, 50, 69):\n",
        "  print(i)"
      ],
      "metadata": {
        "id": "TZ-Ez1Fz3qmm",
        "outputId": "3b4eb775-f786-48f1-a244-5ac929b34314",
        "colab": {
          "base_uri": "https://localhost:8080/"
        }
      },
      "execution_count": null,
      "outputs": [
        {
          "output_type": "stream",
          "name": "stdout",
          "text": [
            "45\n",
            "92\n",
            "78\n",
            "50\n",
            "69\n"
          ]
        }
      ]
    },
    {
      "cell_type": "markdown",
      "source": [
        "# python list和tuple有何差別\n",
        "\n",
        "---\n",
        "\n",
        "Python 中 list（串列）和 tuple（元組）的主要差別如下：\n",
        "\n",
        "- **1 可變性（Mutable vs Immutable）**\n",
        "- list 是可變的（mutable），可以在建立後修改內容，包括新增、刪除、改變元素。\n",
        "- tuple 是不可變的（immutable），一旦建立後，內容無法更改，不能新增、刪除或修改元素。\n",
        "- **2 語法表示**\n",
        "- list 使用中括號 [] 表示，例如：``\n",
        "- tuple 使用小括號 () 表示，例如：`(1, 2, 3)`。\n",
        "- **3性能差異**\n",
        "- tuple 較輕量，因為不可變，佔用較少記憶體且存取速度較快。\n",
        "- list 由於可變，佔用較多記憶體，操作時可能較慢。\n",
        "- **4 使用情境**\n",
        "- list 適合需要頻繁修改資料的場合，如新增或刪除元素。\n",
        "- tuple 適合用於資料不需變動且需保護資料不被意外修改的情況，或作為函式間傳遞不可變資料的結構。\n",
        "\n",
        "- 其他特性\n",
        "- tuple 可用於具名元組（namedtuple），提供類似記錄（record）的功能，便於管理異質資料。\n",
        "- list 支援較多的內建方法，如 append、extend、remove 等，tuple 則不支援這些修改型方法。"
      ],
      "metadata": {
        "id": "wpoxAT4232tv"
      }
    },
    {
      "cell_type": "markdown",
      "source": [
        "# python 詞典物件介紹\n",
        "\n",
        "---\n",
        "\n",
        "Python 的詞典（Dictionary）是一種非常重要且常用的資料結構，用來儲存一組「鍵（Key）-值（Value）」對，類似於一個關聯陣列或映射表。以下是詞典物件的詳細介紹：\n",
        "\n",
        "#### Python 詞典（Dictionary）介紹\n",
        "**基本概念**\n",
        "\n",
        "- 詞典由多個鍵值對組成，每個鍵對應一個值，透過鍵可以快速存取對應的值。\n",
        "- 鍵必須是不可變的資料型態，如字串、數字或不可變元組（tuple），且鍵在詞典中是唯一的。\n",
        "- 值可以是任意的 Python 物件，包括數字、字串、串列、甚至是另一個詞典。\n",
        "- 詞典本身是可變的，允許新增、修改或刪除鍵值對。\n",
        "- Python 3.7 以後的版本中，詞典保持插入順序（有順序性），但在更早版本中詞典是無序的"
      ],
      "metadata": {
        "id": "h2yU6afO37Le"
      }
    },
    {
      "cell_type": "code",
      "source": [
        "desserts = {'Muffin':39, 'Scone':25, 'Biscuit':20}\n",
        "desserts['Muffin']\n",
        "desserts['Biscuit']"
      ],
      "metadata": {
        "id": "7Ut-TcDO4BSN",
        "outputId": "1e3817c2-1c9d-49f2-a594-a33512009ce6",
        "colab": {
          "base_uri": "https://localhost:8080/"
        }
      },
      "execution_count": null,
      "outputs": [
        {
          "output_type": "execute_result",
          "data": {
            "text/plain": [
              "20"
            ]
          },
          "metadata": {},
          "execution_count": 11
        }
      ]
    },
    {
      "cell_type": "code",
      "source": [
        "stu1 = {\"name\":\"robert\",\n",
        "        \"chinese\":78,\n",
        "        \"english\":98,\n",
        "        \"math\":73}\n",
        "\n",
        "stu2 = {\"name\":\"alice\",\n",
        "        \"chinese\":72,\n",
        "        \"english\":88,\n",
        "        \"math\":63}\n",
        "\n",
        "stu3 = {\"name\":\"jenny\",\n",
        "        \"chinese\":65,\n",
        "        \"english\":78,\n",
        "        \"math\":93}"
      ],
      "metadata": {
        "id": "E4FHCKmb4q9X"
      },
      "execution_count": null,
      "outputs": []
    },
    {
      "cell_type": "code",
      "source": [
        "students = [stu1, stu2, stu3]\n",
        "students"
      ],
      "metadata": {
        "id": "ukwc4cXm7esM",
        "outputId": "f3661346-4689-4734-f37d-e04156018c6a",
        "colab": {
          "base_uri": "https://localhost:8080/",
          "height": 159
        }
      },
      "execution_count": 4,
      "outputs": [
        {
          "output_type": "error",
          "ename": "NameError",
          "evalue": "name 'stu1' is not defined",
          "traceback": [
            "\u001b[0;31m---------------------------------------------------------------------------\u001b[0m",
            "\u001b[0;31mNameError\u001b[0m                                 Traceback (most recent call last)",
            "\u001b[0;32m<ipython-input-4-0db4064fce30>\u001b[0m in \u001b[0;36m<cell line: 0>\u001b[0;34m()\u001b[0m\n\u001b[0;32m----> 1\u001b[0;31m \u001b[0mstudents\u001b[0m \u001b[0;34m=\u001b[0m \u001b[0;34m[\u001b[0m\u001b[0mstu1\u001b[0m\u001b[0;34m,\u001b[0m \u001b[0mstu2\u001b[0m\u001b[0;34m,\u001b[0m \u001b[0mstu3\u001b[0m\u001b[0;34m]\u001b[0m\u001b[0;34m\u001b[0m\u001b[0;34m\u001b[0m\u001b[0m\n\u001b[0m\u001b[1;32m      2\u001b[0m \u001b[0mstudents\u001b[0m\u001b[0;34m\u001b[0m\u001b[0;34m\u001b[0m\u001b[0m\n",
            "\u001b[0;31mNameError\u001b[0m: name 'stu1' is not defined"
          ]
        }
      ]
    },
    {
      "cell_type": "code",
      "source": [
        "for student in students:\n",
        "  print(\"姓名:\",student[\"name\"])\n",
        "  print(\"國文:\",student[\"chinese\"])\n",
        "  print(\"英文:\",student[\"english\"])\n",
        "  print(\"數學:\",student[\"math\"])\n",
        "  print(\"===============\")"
      ],
      "metadata": {
        "id": "Gr6Oubov5dTA",
        "outputId": "e7e74e57-1653-4623-8d23-8546e7fe692d",
        "colab": {
          "base_uri": "https://localhost:8080/",
          "height": 211
        }
      },
      "execution_count": 3,
      "outputs": [
        {
          "output_type": "error",
          "ename": "NameError",
          "evalue": "name 'students' is not defined",
          "traceback": [
            "\u001b[0;31m---------------------------------------------------------------------------\u001b[0m",
            "\u001b[0;31mNameError\u001b[0m                                 Traceback (most recent call last)",
            "\u001b[0;32m<ipython-input-3-625f6f8b3cc5>\u001b[0m in \u001b[0;36m<cell line: 0>\u001b[0;34m()\u001b[0m\n\u001b[0;32m----> 1\u001b[0;31m \u001b[0;32mfor\u001b[0m \u001b[0mstudent\u001b[0m \u001b[0;32min\u001b[0m \u001b[0mstudents\u001b[0m\u001b[0;34m:\u001b[0m\u001b[0;34m\u001b[0m\u001b[0;34m\u001b[0m\u001b[0m\n\u001b[0m\u001b[1;32m      2\u001b[0m   \u001b[0mprint\u001b[0m\u001b[0;34m(\u001b[0m\u001b[0;34m\"姓名:\"\u001b[0m\u001b[0;34m,\u001b[0m\u001b[0mstudent\u001b[0m\u001b[0;34m[\u001b[0m\u001b[0;34m\"name\"\u001b[0m\u001b[0;34m]\u001b[0m\u001b[0;34m)\u001b[0m\u001b[0;34m\u001b[0m\u001b[0;34m\u001b[0m\u001b[0m\n\u001b[1;32m      3\u001b[0m   \u001b[0mprint\u001b[0m\u001b[0;34m(\u001b[0m\u001b[0;34m\"國文:\"\u001b[0m\u001b[0;34m,\u001b[0m\u001b[0mstudent\u001b[0m\u001b[0;34m[\u001b[0m\u001b[0;34m\"chinese\"\u001b[0m\u001b[0;34m]\u001b[0m\u001b[0;34m)\u001b[0m\u001b[0;34m\u001b[0m\u001b[0;34m\u001b[0m\u001b[0m\n\u001b[1;32m      4\u001b[0m   \u001b[0mprint\u001b[0m\u001b[0;34m(\u001b[0m\u001b[0;34m\"英文:\"\u001b[0m\u001b[0;34m,\u001b[0m\u001b[0mstudent\u001b[0m\u001b[0;34m[\u001b[0m\u001b[0;34m\"english\"\u001b[0m\u001b[0;34m]\u001b[0m\u001b[0;34m)\u001b[0m\u001b[0;34m\u001b[0m\u001b[0;34m\u001b[0m\u001b[0m\n\u001b[1;32m      5\u001b[0m   \u001b[0mprint\u001b[0m\u001b[0;34m(\u001b[0m\u001b[0;34m\"數學:\"\u001b[0m\u001b[0;34m,\u001b[0m\u001b[0mstudent\u001b[0m\u001b[0;34m[\u001b[0m\u001b[0;34m\"math\"\u001b[0m\u001b[0;34m]\u001b[0m\u001b[0;34m)\u001b[0m\u001b[0;34m\u001b[0m\u001b[0;34m\u001b[0m\u001b[0m\n",
            "\u001b[0;31mNameError\u001b[0m: name 'students' is not defined"
          ]
        }
      ]
    }
  ]
}