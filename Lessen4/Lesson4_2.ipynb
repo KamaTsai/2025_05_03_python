{
  "nbformat": 4,
  "nbformat_minor": 0,
  "metadata": {
    "colab": {
      "provenance": [],
      "authorship_tag": "ABX9TyOwzhSP7K7tlejvMVUSEwnX",
      "include_colab_link": true
    },
    "kernelspec": {
      "name": "python3",
      "display_name": "Python 3"
    },
    "language_info": {
      "name": "python"
    }
  },
  "cells": [
    {
      "cell_type": "markdown",
      "metadata": {
        "id": "view-in-github",
        "colab_type": "text"
      },
      "source": [
        "<a href=\"https://colab.research.google.com/github/KamaTsai/2025_05_03_python/blob/main/Lessen4/Lesson4_2.ipynb\" target=\"_parent\"><img src=\"https://colab.research.google.com/assets/colab-badge.svg\" alt=\"Open In Colab\"/></a>"
      ]
    },
    {
      "cell_type": "markdown",
      "source": [
        "# python while迴圈說明\n",
        "\n",
        "---\n",
        "\n",
        "Python 的 while 迴圈用來根據條件判斷，重複執行某段程式碼，直到條件不成立為止。其基本語法如下：\n",
        "\n",
        "```\n",
        "while 條件:\n",
        "    程式區塊\n",
        "```\n",
        "\n",
        "•\t當條件為 True 時，會執行縮排的程式區塊。  \n",
        "•\t每次執行完程式區塊後，會再次檢查條件，若仍為 True，則繼續執行迴圈。  \n",
        "•\t當條件變為 False，迴圈結束，程式往下繼續執行。"
      ],
      "metadata": {
        "id": "sC__0V6rB2_1"
      }
    },
    {
      "cell_type": "code",
      "execution_count": 1,
      "metadata": {
        "id": "kikPnVgX8d_N",
        "outputId": "5e8765e1-0302-4f29-b5b9-7022ba23ecc5",
        "colab": {
          "base_uri": "https://localhost:8080/"
        }
      },
      "outputs": [
        {
          "output_type": "stream",
          "name": "stdout",
          "text": [
            "1\n",
            "2\n",
            "3\n",
            "4\n",
            "5\n"
          ]
        }
      ],
      "source": [
        "#當While的判斷值是True會一直執行，直到False\n",
        "count = 1\n",
        "while count <= 5:\n",
        "  print(count)\n",
        "  count += 1"
      ]
    },
    {
      "cell_type": "code",
      "source": [
        "from os import uname\n",
        "total=0\n",
        "while True:\n",
        "  num = int(input(\"請輸入一個數字(輸入0結束:\"))\n",
        "  if num ==0:\n",
        "    break\n",
        "  total += num\n",
        "print(\"總計:\",total)"
      ],
      "metadata": {
        "id": "IpGRkGAnCVVX",
        "outputId": "72bd41e0-3d64-4577-ebaf-b0928febf1ae",
        "colab": {
          "base_uri": "https://localhost:8080/"
        }
      },
      "execution_count": 4,
      "outputs": [
        {
          "output_type": "stream",
          "name": "stdout",
          "text": [
            "請輸入一個數字(輸入0結束:1\n",
            "請輸入一個數字(輸入0結束:2\n",
            "請輸入一個數字(輸入0結束:3\n",
            "請輸入一個數字(輸入0結束:4\n",
            "請輸入一個數字(輸入0結束:9\n",
            "請輸入一個數字(輸入0結束:10\n",
            "請輸入一個數字(輸入0結束:222\n",
            "請輸入一個數字(輸入0結束:0\n",
            "總計: 251\n"
          ]
        }
      ]
    }
  ]
}