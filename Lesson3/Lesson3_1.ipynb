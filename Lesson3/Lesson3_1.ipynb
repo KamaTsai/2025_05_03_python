{
  "nbformat": 4,
  "nbformat_minor": 0,
  "metadata": {
    "colab": {
      "provenance": [],
      "authorship_tag": "ABX9TyNKfqfHUSVV+uMrysL2iu6s",
      "include_colab_link": true
    },
    "kernelspec": {
      "name": "python3",
      "display_name": "Python 3"
    },
    "language_info": {
      "name": "python"
    }
  },
  "cells": [
    {
      "cell_type": "markdown",
      "metadata": {
        "id": "view-in-github",
        "colab_type": "text"
      },
      "source": [
        "<a href=\"https://colab.research.google.com/github/KamaTsai/2025_05_03_python/blob/main/Lesson3/Lesson3_1.ipynb\" target=\"_parent\"><img src=\"https://colab.research.google.com/assets/colab-badge.svg\" alt=\"Open In Colab\"/></a>"
      ]
    },
    {
      "cell_type": "markdown",
      "source": [
        "# python的條件式\n",
        "## python的比較運算子\n",
        "Python 的比較運算子用來比較兩個值，並回傳布林值（True 或 False）。Python 支援以下主要的比較運算子：\n",
        "\n",
        "- `<` ：小於\n",
        "- `<=` ：小於等於\n",
        "- `>` ：大於\n",
        "- `>=` ：大於等於\n",
        "- `==` ：等於\n",
        "- `!=` ：不等於\n",
        "- `is` ：判斷兩個物件是否為同一個物件（物件識別）(不同型態是不同物件，Ex 5不等於5.0)\n",
        "- `is not` ：判斷兩個物件是否不是同一個物件"
      ],
      "metadata": {
        "id": "6o6rqPw79GSu"
      }
    },
    {
      "cell_type": "code",
      "execution_count": 13,
      "metadata": {
        "id": "rkSKf1kE0vIH",
        "outputId": "5e27984c-a250-451f-af17-53c6d4d46ea0",
        "colab": {
          "base_uri": "https://localhost:8080/"
        }
      },
      "outputs": [
        {
          "output_type": "stream",
          "name": "stderr",
          "text": [
            "<>:3: SyntaxWarning: \"is\" with a literal. Did you mean \"==\"?\n",
            "<>:4: SyntaxWarning: \"is not\" with a literal. Did you mean \"!=\"?\n",
            "<>:3: SyntaxWarning: \"is\" with a literal. Did you mean \"==\"?\n",
            "<>:4: SyntaxWarning: \"is not\" with a literal. Did you mean \"!=\"?\n",
            "<ipython-input-13-4ebd421497a6>:3: SyntaxWarning: \"is\" with a literal. Did you mean \"==\"?\n",
            "  5 is 5.0\n",
            "<ipython-input-13-4ebd421497a6>:4: SyntaxWarning: \"is not\" with a literal. Did you mean \"!=\"?\n",
            "  5 is not 5.0\n"
          ]
        },
        {
          "output_type": "execute_result",
          "data": {
            "text/plain": [
              "True"
            ]
          },
          "metadata": {},
          "execution_count": 13
        }
      ],
      "source": [
        "5 == 5\n",
        "5 != 5\n",
        "5 is 5.0\n",
        "5 is not 5.0"
      ]
    },
    {
      "cell_type": "code",
      "source": [],
      "metadata": {
        "id": "1m5qEdSs9ZRe"
      },
      "execution_count": null,
      "outputs": []
    }
  ]
}