{
 "cells": [
  {
   "cell_type": "markdown",
   "id": "16d722ae",
   "metadata": {},
   "source": [
    "# https://www.perplexity.ai/search/216f82f2-9e19-4f29-bb0e-bdbfb083b51b\n"
   ]
  },
  {
   "cell_type": "code",
   "execution_count": null,
   "id": "c71a5108",
   "metadata": {},
   "outputs": [],
   "source": [
    "# 使用 with 語法開啟檔案，確保讀取完後自動關閉檔案\n",
    "with open(\"names.txt\", \"r\", encoding=\"utf-8\") as f: # 以\"r\"讀取模式，並以UTF-8編碼讀取檔案內容，打開檔案 names.txt\n",
    "    content = f.read()  # 一次讀取全部內容，回傳字串\n",
    "    print(content)"
   ]
  },
  {
   "cell_type": "code",
   "execution_count": null,
   "id": "6f9c4bf8",
   "metadata": {},
   "outputs": [],
   "source": [
    "# 不是使用 with 語法開啟檔案，最後要加上file.close\n",
    "# 看open的說明書，因為第二個條件預設就是\"r\",所以\"r\"不需要打出來，encogin=\"utf-8\"→引述名稱呼叫\n",
    "file = open(\"names.txt\", encoding=\"utf-8\")\n",
    "print(file.read())\n",
    "file.close"
   ]
  },
  {
   "cell_type": "code",
   "execution_count": null,
   "id": "7feb04b0",
   "metadata": {},
   "outputs": [],
   "source": [
    "file = open(\"names.txt\", encoding=\"utf-8\")\n",
    "names:list = file.readlines() # :list →型別提醒，以免忘記(不影響程式功能)\n",
    "print(len(names)) #len →內建函數,回傳物件的長度(元素個數)\n",
    "file.close()\n",
    "\n"
   ]
  },
  {
   "cell_type": "code",
   "execution_count": null,
   "id": "3463f7c2",
   "metadata": {},
   "outputs": [],
   "source": [
    "for name in names : #用for in 迴圈\n",
    "    print(name)"
   ]
  }
 ],
 "metadata": {
  "kernelspec": {
   "display_name": "Kama0607",
   "language": "python",
   "name": "python3"
  },
  "language_info": {
   "codemirror_mode": {
    "name": "ipython",
    "version": 3
   },
   "file_extension": ".py",
   "mimetype": "text/x-python",
   "name": "python",
   "nbconvert_exporter": "python",
   "pygments_lexer": "ipython3",
   "version": "3.10.18"
  }
 },
 "nbformat": 4,
 "nbformat_minor": 5
}
